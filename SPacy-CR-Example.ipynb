{
 "cells": [
  {
   "cell_type": "markdown",
   "metadata": {},
   "source": [
    "### CR with Spacy - Example"
   ]
  },
  {
   "cell_type": "markdown",
   "metadata": {},
   "source": []
  },
  {
   "cell_type": "code",
   "execution_count": 1,
   "metadata": {},
   "outputs": [],
   "source": [
    "import json, logging, sys\n",
    "import pandas as pd"
   ]
  },
  {
   "cell_type": "code",
   "execution_count": 2,
   "metadata": {},
   "outputs": [],
   "source": [
    "ner_file = \"spaCy_data/se_ner_annotated.tsv\"\n",
    "df_data = pd.read_csv(ner_file,sep=\"\\t\",encoding=\"latin1\").fillna(method='ffill')"
   ]
  },
  {
   "cell_type": "code",
   "execution_count": 3,
   "metadata": {},
   "outputs": [],
   "source": [
    "df_data = df_data[['Word', 'Tag']]\n",
    "df_data.to_csv('spaCy_data/spacy_ner.tsv', sep='\\t',index=False)"
   ]
  },
  {
   "cell_type": "code",
   "execution_count": 4,
   "metadata": {},
   "outputs": [],
   "source": [
    "# Convert .tsv file to dataturks json format. \n",
    "\n",
    "def tsv_to_json_format(input_path,output_path,unknown_label):\n",
    "    \n",
    "    try:\n",
    "        f=open(input_path,'r') # input file\n",
    "        fp=open(output_path, 'w') # output file\n",
    "        data_dict={}\n",
    "        annotations =[]\n",
    "        label_dict={}\n",
    "        s=''\n",
    "        start=0\n",
    "        for line in f:\n",
    "            if line[0:len(line)-1]!='.\\tO':\n",
    "                word,entity=line.split('\\t')\n",
    "                s+=word+\" \"\n",
    "                entity=entity[:len(entity)-1]\n",
    "                if entity!=unknown_label:\n",
    "                    if len(entity) != 1:\n",
    "                        d={}\n",
    "                        d['text']=word\n",
    "                        d['start']=start\n",
    "                        d['end']=start+len(word)-1  \n",
    "                        try:\n",
    "                            label_dict[entity].append(d)\n",
    "                        except:\n",
    "                            label_dict[entity]=[]\n",
    "                            label_dict[entity].append(d) \n",
    "                start+=len(word)+1\n",
    "            else:\n",
    "                data_dict['content']=s\n",
    "                s=''\n",
    "                label_list=[]\n",
    "                for ents in list(label_dict.keys()):\n",
    "                    for i in range(len(label_dict[ents])):\n",
    "                        if(label_dict[ents][i]['text']!=''):\n",
    "                            l=[ents,label_dict[ents][i]]\n",
    "                            for j in range(i+1,len(label_dict[ents])): \n",
    "                                if(label_dict[ents][i]['text']==label_dict[ents][j]['text']):  \n",
    "                                    di={}\n",
    "                                    di['start']=label_dict[ents][j]['start']\n",
    "                                    di['end']=label_dict[ents][j]['end']\n",
    "                                    di['text']=label_dict[ents][i]['text']\n",
    "                                    l.append(di)\n",
    "                                    label_dict[ents][j]['text']=''\n",
    "                            label_list.append(l)                          \n",
    "                            \n",
    "                for entities in label_list:\n",
    "                    label={}\n",
    "                    label['label']=[entities[0]]\n",
    "                    label['points']=entities[1:]\n",
    "                    annotations.append(label)\n",
    "                data_dict['annotation']=annotations\n",
    "                annotations=[]\n",
    "                json.dump(data_dict, fp)\n",
    "                fp.write('\\n')\n",
    "                data_dict={}\n",
    "                start=0\n",
    "                label_dict={}\n",
    "    except Exception as e:\n",
    "        logging.exception(\"Unable to process file\" + \"\\n\" + \"error = \" + str(e))\n",
    "        return None\n",
    "\n",
    "tsv_to_json_format(\"spaCy_data/spacy_ner.tsv\",'spaCy_data/se_ner_spacy.json','abc')"
   ]
  },
  {
   "cell_type": "code",
   "execution_count": 5,
   "metadata": {},
   "outputs": [],
   "source": [
    "# Convert json file to spaCy format.\n",
    "import plac\n",
    "import logging\n",
    "import argparse\n",
    "import sys\n",
    "import os\n",
    "import json\n",
    "import pickle\n",
    "\n",
    "#@plac.annotations(input_file=(\"Input file\", \"option\", \"i\", str), output_file=(\"Output file\", \"option\", \"o\", str))\n",
    "\n",
    "def to_spacy_format(input_file=None, output_file=None):\n",
    "    try:\n",
    "        training_data = []\n",
    "        lines=[]\n",
    "        with open(input_file, 'r') as f:\n",
    "            lines = f.readlines()\n",
    "\n",
    "        for line in lines:\n",
    "            data = json.loads(line)\n",
    "            text = data['content']\n",
    "            entities = []\n",
    "            for annotation in data['annotation']:\n",
    "                point = annotation['points'][0]\n",
    "                labels = annotation['label']\n",
    "                if not isinstance(labels, list):\n",
    "                    labels = [labels]\n",
    "\n",
    "                for label in labels:\n",
    "                    entities.append((point['start'], point['end'] + 1 ,label))\n",
    "\n",
    "\n",
    "            training_data.append((text, {\"entities\" : entities}))\n",
    "\n",
    "        with open(output_file, 'wb') as fp:\n",
    "            pickle.dump(training_data, fp)\n",
    "\n",
    "    except Exception as e:\n",
    "        logging.exception(\"Unable to process \" + input_file + \"\\n\" + \"error = \" + str(e))\n",
    "        return None\n",
    "\n",
    "to_spacy_format('spaCy_data/se_ner_spacy.json', 'spaCy_data/se_ner_spacy_new.json')\n"
   ]
  },
  {
   "cell_type": "code",
   "execution_count": 6,
   "metadata": {},
   "outputs": [],
   "source": [
    "import spacy\n",
    "nlp = spacy.blank('en')  # create blank Language class\n",
    "ner = nlp.create_pipe('ner')"
   ]
  },
  {
   "cell_type": "code",
   "execution_count": 7,
   "metadata": {},
   "outputs": [
    {
     "data": {
      "text/plain": [
       "['O',\n",
       " 'B-syscon',\n",
       " 'B-grp',\n",
       " 'B-seterm',\n",
       " 'B-opcon',\n",
       " 'I-opcon',\n",
       " 'B-mea',\n",
       " 'I-mea',\n",
       " 'B-loc',\n",
       " 'I-loc',\n",
       " 'B-abb',\n",
       " 'I-grp',\n",
       " 'I-syscon',\n",
       " 'B-cardinal',\n",
       " 'B-org',\n",
       " 'I-org',\n",
       " 'B-event',\n",
       " 'I-event',\n",
       " 'I-seterm',\n",
       " 'I-abb',\n",
       " 'B-art']"
      ]
     },
     "execution_count": 7,
     "metadata": {},
     "output_type": "execute_result"
    }
   ],
   "source": [
    "list(df_data.Tag.unique())"
   ]
  },
  {
   "cell_type": "code",
   "execution_count": 8,
   "metadata": {},
   "outputs": [
    {
     "name": "stdout",
     "output_type": "stream",
     "text": [
      "3606\n"
     ]
    }
   ],
   "source": [
    "#!/usr/bin/env python\n",
    "# coding: utf8\n",
    "\n",
    "# Training additional entity types using spaCy\n",
    "from __future__ import unicode_literals, print_function\n",
    "import pickle\n",
    "import plac\n",
    "import random\n",
    "from pathlib import Path\n",
    "import spacy\n",
    "from spacy.util import minibatch, compounding\n",
    "\n",
    "\n",
    "# New entity labels\n",
    "# Specify the new entity labels which you want to add here\n",
    "LABEL = list(df_data.Tag.unique())\n",
    "\n",
    "# Loading training data \n",
    "with open ('spaCy_data/se_ner_spacy_new.json', 'rb') as fp:\n",
    "    TRAIN_DATA = pickle.load(fp)\n",
    "\n",
    "FULL_DATA = TRAIN_DATA\n",
    "num_of_examples = len(FULL_DATA)\n",
    "print(num_of_examples)"
   ]
  },
  {
   "cell_type": "code",
   "execution_count": 9,
   "metadata": {},
   "outputs": [],
   "source": [
    "TEST_DATA = FULL_DATA[int(num_of_examples*0.8):]\n",
    "TRAIN_DATA = FULL_DATA[:int(num_of_examples*0.8)]"
   ]
  },
  {
   "cell_type": "code",
   "execution_count": 10,
   "metadata": {},
   "outputs": [],
   "source": [
    "def train_2(model=None, new_model_name='spacy_cr', output_dir=\"spaCy_data\", n_iter=20):\n",
    "    \"\"\"Set up the pipeline and entity recognizer, and train the new entity.\"\"\"\n",
    "    if model is not None:\n",
    "        nlp = spacy.load(model)  # load existing spaCy model\n",
    "        print(\"Loaded model '%s'\" % model)\n",
    "    else:\n",
    "        nlp = spacy.blank('en')  # create blank Language class\n",
    "        print(\"Created blank 'en' model\")\n",
    "\n",
    "    # Add entity recognizer to model if it's not in the pipeline\n",
    "    # nlp.create_pipe works for built-ins that are registered with spaCy\n",
    "    if 'ner' not in nlp.pipe_names:\n",
    "        ner = nlp.create_pipe('ner')\n",
    "        nlp.add_pipe(ner)\n",
    "    # otherwise, get it, so we can add labels to it\n",
    "    else:\n",
    "        ner = nlp.get_pipe('ner')\n",
    "\n",
    "    \"\"\"ADD MULTIPLE LABELS TO NER MODEL\"\"\"\n",
    "    # add labels\n",
    "    for _, annotations in TRAIN_DATA:\n",
    "        for ent in annotations.get('entities'):\n",
    "            ner.add_label(ent[2])\n",
    "    \n",
    "    # get names of other pipes to disable them during training\n",
    "    other_pipes = [pipe for pipe in nlp.pipe_names if pipe != 'ner']\n",
    "    with nlp.disable_pipes(*other_pipes):  # only train NER\n",
    "        optimizer = nlp.begin_training()\n",
    "        for itn in range(n_iter):\n",
    "            random.shuffle(TRAIN_DATA)\n",
    "            losses = {}\n",
    "            for text, annotations in TRAIN_DATA:\n",
    "                nlp.update([text], [annotations], sgd=optimizer, drop=0.35,\n",
    "                           losses=losses)\n",
    "            print(losses)\n",
    "            \n",
    "    # test the trained model\n",
    "    test_text = 'Acceptable Risk is the risk that is understood and agreed to by the program/project.'\n",
    "    doc = nlp(test_text)\n",
    "    print(\"Entities in '%s'\" % test_text)\n",
    "    for i, ent in enumerate(doc.ents):\n",
    "        print(\"Entity number %s is %s in text: '%s'\" % (i, ent.label_, ent.text))\n",
    "\n",
    "    # save model to output directory\n",
    "    if output_dir is not None:\n",
    "        output_dir = Path(output_dir)\n",
    "        if not output_dir.exists():\n",
    "            output_dir.mkdir()\n",
    "        nlp.meta['name'] = new_model_name  # rename model\n",
    "        nlp.to_disk(output_dir)\n",
    "        print(\"Saved model to\", output_dir)\n",
    "\n",
    "        # test the saved model\n",
    "        print(\"Loading from\", output_dir)\n",
    "        nlp2 = spacy.load(output_dir)\n",
    "        doc2 = nlp2(test_text)\n",
    "        for ent in doc2.ents:\n",
    "            print(ent.label_, ent.text)"
   ]
  },
  {
   "cell_type": "code",
   "execution_count": 11,
   "metadata": {},
   "outputs": [
    {
     "name": "stdout",
     "output_type": "stream",
     "text": [
      "Created blank 'en' model\n",
      "{'ner': 9002.891653973242}\n",
      "{'ner': 5257.469465500847}\n",
      "{'ner': 4566.708569226414}\n",
      "{'ner': 4093.7538259150306}\n",
      "{'ner': 3760.666199957914}\n",
      "{'ner': 3596.9020696359116}\n",
      "{'ner': 3282.4716652484817}\n",
      "{'ner': 3069.1905463414428}\n",
      "{'ner': 2985.207036138996}\n",
      "{'ner': 2859.4274699825005}\n",
      "{'ner': 2645.9353293638014}\n",
      "{'ner': 2541.0495055837646}\n",
      "{'ner': 2457.7074927997683}\n",
      "{'ner': 2418.1576315402413}\n",
      "{'ner': 2187.944465970053}\n",
      "{'ner': 2156.667096074525}\n",
      "{'ner': 2136.472059896053}\n",
      "{'ner': 2079.535947602734}\n",
      "{'ner': 1931.0609589596481}\n",
      "{'ner': 1937.0291296191042}\n",
      "Entities in 'Acceptable Risk is the risk that is understood and agreed to by the program/project.'\n",
      "Entity number 0 is B-mea in text: 'Acceptable'\n",
      "Entity number 1 is I-mea in text: 'Risk'\n",
      "Entity number 2 is B-mea in text: 'risk'\n",
      "Entity number 3 is B-opcon in text: 'program'\n",
      "Entity number 4 is B-seterm in text: 'project'\n",
      "Saved model to spaCy_data\n",
      "Loading from spaCy_data\n",
      "B-mea Acceptable\n",
      "I-mea Risk\n",
      "B-mea risk\n",
      "B-opcon program\n",
      "B-seterm project\n"
     ]
    }
   ],
   "source": [
    "train_2()"
   ]
  },
  {
   "cell_type": "code",
   "execution_count": 12,
   "metadata": {},
   "outputs": [
    {
     "name": "stdout",
     "output_type": "stream",
     "text": [
      "{'uas': 0.0, 'las': 0.0, 'ents_p': 86.57525510204081, 'ents_r': 91.97154471544715, 'ents_f': 89.19185282522996, 'ents_per_type': {'B-opcon': {'p': 87.34076433121018, 'r': 93.52088661551578, 'f': 90.32523672293124}, 'B-mea': {'p': 92.69406392694064, 'r': 98.54368932038835, 'f': 95.52941176470588}, 'I-opcon': {'p': 80.20565552699229, 'r': 82.75862068965517, 'f': 81.46214099216711}, 'B-seterm': {'p': 90.07633587786259, 'r': 92.91338582677166, 'f': 91.47286821705426}, 'B-syscon': {'p': 81.73719376391982, 'r': 93.86189258312021, 'f': 87.3809523809524}, 'B-grp': {'p': 90.4, 'r': 93.38842975206612, 'f': 91.86991869918698}, 'B-cardinal': {'p': 100.0, 'r': 98.07692307692307, 'f': 99.02912621359222}, 'B-event': {'p': 92.3076923076923, 'r': 98.36065573770492, 'f': 95.23809523809524}, 'I-event': {'p': 89.74358974358975, 'r': 85.36585365853658, 'f': 87.5}, 'I-seterm': {'p': 100.0, 'r': 75.0, 'f': 85.71428571428571}, 'B-org': {'p': 88.88888888888889, 'r': 80.0, 'f': 84.21052631578948}, 'I-syscon': {'p': 79.41176470588235, 'r': 80.59701492537313, 'f': 80.0}, 'B-abb': {'p': 90.21739130434783, 'r': 96.51162790697676, 'f': 93.25842696629213}, 'I-mea': {'p': 97.61904761904762, 'r': 89.13043478260869, 'f': 93.18181818181817}, 'I-grp': {'p': 75.86206896551724, 'r': 81.48148148148148, 'f': 78.57142857142857}, 'I-org': {'p': 0.0, 'r': 0.0, 'f': 0.0}, 'B-art': {'p': 0.0, 'r': 0.0, 'f': 0.0}, 'I-abb': {'p': 78.94736842105263, 'r': 100.0, 'f': 88.23529411764706}}, 'tags_acc': 0.0, 'token_acc': 100.0}\n"
     ]
    }
   ],
   "source": [
    "import spacy\n",
    "from spacy.gold import GoldParse\n",
    "from spacy.scorer import Scorer\n",
    "\n",
    "def evaluate(ner_model, examples):\n",
    "    scorer = Scorer()\n",
    "    for input_, annot in examples:\n",
    "        doc_gold_text = ner_model.make_doc(input_)\n",
    "        gold = GoldParse(doc_gold_text, entities=annot['entities'])\n",
    "        pred_value = ner_model(input_)\n",
    "        scorer.score(pred_value, gold)\n",
    "    return scorer.scores\n",
    "\n",
    "\n",
    "ner_model = spacy.load('spaCy_data') # for spaCy's pretrained use 'en_core_web_sm'\n",
    "results = evaluate(ner_model, TEST_DATA)\n",
    "print(results)"
   ]
  },
  {
   "cell_type": "code",
   "execution_count": null,
   "metadata": {},
   "outputs": [],
   "source": []
  },
  {
   "cell_type": "code",
   "execution_count": null,
   "metadata": {},
   "outputs": [],
   "source": []
  },
  {
   "cell_type": "markdown",
   "metadata": {},
   "source": [
    "### References: "
   ]
  },
  {
   "cell_type": "markdown",
   "metadata": {},
   "source": [
    "https://towardsdatascience.com/custom-named-entity-recognition-using-spacy-7140ebbb3718\n",
    "https://timkuhn.github.io/TextMining/spacy/ner/2018/01/24/spaCy_NER_Training.html"
   ]
  },
  {
   "cell_type": "code",
   "execution_count": null,
   "metadata": {},
   "outputs": [],
   "source": []
  }
 ],
 "metadata": {
  "kernelspec": {
   "display_name": "Python 3",
   "language": "python",
   "name": "python3"
  },
  "language_info": {
   "codemirror_mode": {
    "name": "ipython",
    "version": 3
   },
   "file_extension": ".py",
   "mimetype": "text/x-python",
   "name": "python",
   "nbconvert_exporter": "python",
   "pygments_lexer": "ipython3",
   "version": "3.7.1"
  }
 },
 "nbformat": 4,
 "nbformat_minor": 2
}
